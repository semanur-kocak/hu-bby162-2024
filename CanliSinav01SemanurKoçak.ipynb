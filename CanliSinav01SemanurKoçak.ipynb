{
  "nbformat": 4,
  "nbformat_minor": 0,
  "metadata": {
    "colab": {
      "provenance": [],
      "include_colab_link": true
    },
    "kernelspec": {
      "name": "python3",
      "display_name": "Python 3"
    },
    "language_info": {
      "name": "python"
    }
  },
  "cells": [
    {
      "cell_type": "markdown",
      "metadata": {
        "id": "view-in-github",
        "colab_type": "text"
      },
      "source": [
        "<a href=\"https://colab.research.google.com/github/semanur-kocak/hu-bby162-2024/blob/main/CanliSinav01SemanurKo%C3%A7ak.ipynb\" target=\"_parent\"><img src=\"https://colab.research.google.com/assets/colab-badge.svg\" alt=\"Open In Colab\"/></a>"
      ]
    },
    {
      "cell_type": "markdown",
      "source": [
        "**Canlı Sınav 01'e hoşgeldiniz!**"
      ],
      "metadata": {
        "id": "ItmuxWgBbkC1"
      }
    },
    {
      "cell_type": "markdown",
      "source": [
        "Canlı sınav, bilgisayar laboratuvarında bilgisayar başında yapılan ve teslim edilen projeyi ifade etmektedir. Canlı sınavda yazmış olduğunuz kodlar sizin sorumluluğunuzdadır ve gerekirse hangi kodu neden yazdığınızı açık bir şekilde anlatabilmeniz gerekmektedir. Canlı sınav sırasında İnternet üzerindeki kaynaklar kullanılabilir ancak başka bir kişiden destek alınamaz.\n",
        "\n",
        "Canlı sınavın teslim şekli önceki proje çalışmasında olduğu gibidir. \"Canlı Sınav 01\" adlı Colab not defterinin bir kopyasını çıkarmalı, size ait olan bu kopya üzerinde soruları cevaplamalı, GitHub'daki ders deponuza size ait kopyayı yüklemeli ve not defterinin adresini metin alanına yazarak göndermelisiniz.\n",
        "\n",
        "Canlı sınavın doğru şekilde tamamlanması da sınavın önemli bir parçasıdır. Sınav için gönderdiğiniz adresi kontrol ediniz ve doğru dosyayı depoya yerleştirdiği bizden emin olunuz. Teslim sürecinde yapılan hatalar sınavdan 0 puan almanıza yol açabilir!\n",
        "\n",
        "Önemli Not: Soruları cecaplarken sadece şu ana kadar öğrendiğiniz kod yapılarını kullanmanız gerekmektedir!!!"
      ],
      "metadata": {
        "id": "KGjdjR5RbTgH"
      }
    },
    {
      "cell_type": "markdown",
      "source": [
        "**----- Sorular -----**"
      ],
      "metadata": {
        "id": "zBvdh4s8cOqM"
      }
    },
    {
      "cell_type": "markdown",
      "source": [
        "**Soru 1:** Bir giriş sisteminde kullanıcı adı olarak eposta ya da telefon numarası kullanılabilmektedir. Şifre ise tektir. Klavyeden doğru kullanıcı adı ve şifre girildiğinde ekrana \" Sisteme giriş yaptınız\" , yanlış kullanıcı adı girildiğinde \"kullanıcı adı hatalı\" , yanlış şifre girildiğinde \"şifre hatalı\" bilgisi yazdırılmalıdır. Kullanıcı adı hatalı ise şifre sorma adımına geçilmemelidir."
      ],
      "metadata": {
        "id": "ma0FVqgQiLBe"
      }
    },
    {
      "cell_type": "code",
      "source": [
        "\n",
        "eposta = \"a@a.net\"\n",
        "tel = \"532\"\n",
        "sifre = \"123\"\n",
        "\n",
        "geposta = input(\"Epostanızı giriniz: \")\n",
        "gsifre = input(\"Şifre giriniz: \")\n",
        "\n",
        "if geposta == eposta:\n",
        "\n",
        "  if gsifre == sifre:\n",
        "  print(\"Sisteme giriş yaptınız. \")\n",
        "  else:\n",
        "  print(\"Şifre hatalı. \")\n",
        "\n",
        " else:\n",
        "  print(\"Kullanıcı adı hatalı. \")\n",
        "\n",
        "\n",
        "\n"
      ],
      "metadata": {
        "id": "Fj7wkLMcjp_7",
        "outputId": "a2d58f6e-0ab4-4b73-ef59-4ab59a00ffe1",
        "colab": {
          "base_uri": "https://localhost:8080/",
          "height": 106
        }
      },
      "execution_count": 19,
      "outputs": [
        {
          "output_type": "error",
          "ename": "IndentationError",
          "evalue": "unindent does not match any outer indentation level (<tokenize>, line 15)",
          "traceback": [
            "\u001b[0;36m  File \u001b[0;32m\"<tokenize>\"\u001b[0;36m, line \u001b[0;32m15\u001b[0m\n\u001b[0;31m    else:\u001b[0m\n\u001b[0m    ^\u001b[0m\n\u001b[0;31mIndentationError\u001b[0m\u001b[0;31m:\u001b[0m unindent does not match any outer indentation level\n"
          ]
        }
      ]
    },
    {
      "cell_type": "markdown",
      "source": [
        "**Soru 2:** Klavyeden girilen bir insan ismindeki harf sayısına göre ekrana bir cümle yazdırınız. Örneğin 4 harfli bir isim girildiğinde ekrana \"Dört dörtlük bir isim\", 6 harfli bir isim girildiğinde ekrana \"Altıncı hissin kuvvetli\" yazılabilmelidir. Klavyeden üçten az ya da yediden çok harfe sahip bir isim girildiğinde ise ekrana \"isminiz sisteme uygun değildir\" mesajı yazdırılmalıdır."
      ],
      "metadata": {
        "id": "uZDiXJARgK4o"
      }
    },
    {
      "cell_type": "code",
      "source": [
        "\n",
        "\n",
        "    isim = input(\"Lütfen bir isim girin: \")\n",
        "\n",
        "\n",
        "    harf_sayisi = len(isim)\n",
        "\n",
        "\n",
        "    if harf_sayisi == 3:\n",
        "        print(\"isminiz sisteme uygun değildir\")\n",
        "    elif harf_sayisi == 4:\n",
        "        print(\"Dört dörtlük bir isim\")\n",
        "    elif harf_sayisi == 5:\n",
        "        print(\"Beşten büyük kıymet var mıdır?\")\n",
        "    elif harf_sayisi == 6:\n",
        "        print(\"Altıncı hissin kuvvetli\")\n",
        "    elif harf_sayisi == 7:\n",
        "        print(\"Yedi güzel adam\")\n",
        "    else:\n",
        "        print(\"isminiz sisteme uygun değildir\")\n",
        "\n",
        "\n",
        "\n",
        "\n",
        "\n"
      ],
      "metadata": {
        "id": "no7Zd1ZCh5U3",
        "colab": {
          "base_uri": "https://localhost:8080/"
        },
        "outputId": "2755e55f-79df-4beb-b8d7-5de2cd289dac"
      },
      "execution_count": 20,
      "outputs": [
        {
          "output_type": "stream",
          "name": "stdout",
          "text": [
            "Lütfen bir isim girin: semaaa\n",
            "Altıncı hissin kuvvetli\n"
          ]
        }
      ]
    },
    {
      "cell_type": "markdown",
      "source": [
        "**Soru 3:** 5 öğenin yer aldığı bir kelime tahmin oyunu oluşturun. Kelimeler bir liste içinde yer almalıdır. Klavyeden girilen kelime liste içinde yer alan kelimelerden biri ise ekrana \"bravo oyunu kazandınız\", aksi halde ise ekrana \"üzgünüm oyunu kaybettiniz\" mesajı gelmelidir."
      ],
      "metadata": {
        "id": "HnIqbjcCeNEV"
      }
    },
    {
      "cell_type": "code",
      "source": [
        "\n",
        "kelimeler [\"telefon\" , \"çanta\" , \"bilgisayar\" , \"kalem\" , \"çıktı\" ]\n",
        "\n",
        "girilenkelimeler = input(\"Bir kelime giriniz: \")\n",
        "\n",
        "if girilenkelimeler in kelimeler:\n",
        "  print(\"Bravo oyunu kazandınız. \")\n",
        "\n",
        "else:\n",
        "  print(\"Üzgünüm oyunu kaybettiniz. \")\n",
        "\n",
        "\n",
        "\n",
        "\n",
        "\n",
        "\n"
      ],
      "metadata": {
        "id": "SjzG5g3ffTyv",
        "colab": {
          "base_uri": "https://localhost:8080/",
          "height": 211
        },
        "outputId": "b3664293-4567-449d-8a2a-ef65cd598f64"
      },
      "execution_count": 21,
      "outputs": [
        {
          "output_type": "error",
          "ename": "NameError",
          "evalue": "name 'kelimeler' is not defined",
          "traceback": [
            "\u001b[0;31m---------------------------------------------------------------------------\u001b[0m",
            "\u001b[0;31mNameError\u001b[0m                                 Traceback (most recent call last)",
            "\u001b[0;32m<ipython-input-21-71e946d0c352>\u001b[0m in \u001b[0;36m<cell line: 1>\u001b[0;34m()\u001b[0m\n\u001b[0;32m----> 1\u001b[0;31m \u001b[0mkelimeler\u001b[0m \u001b[0;34m[\u001b[0m\u001b[0;34m\"telefon\"\u001b[0m \u001b[0;34m,\u001b[0m \u001b[0;34m\"çanta\"\u001b[0m \u001b[0;34m,\u001b[0m \u001b[0;34m\"bilgisayar\"\u001b[0m \u001b[0;34m,\u001b[0m \u001b[0;34m\"kalem\"\u001b[0m \u001b[0;34m,\u001b[0m \u001b[0;34m\"çıktı\"\u001b[0m \u001b[0;34m]\u001b[0m\u001b[0;34m\u001b[0m\u001b[0;34m\u001b[0m\u001b[0m\n\u001b[0m\u001b[1;32m      2\u001b[0m \u001b[0;34m\u001b[0m\u001b[0m\n\u001b[1;32m      3\u001b[0m \u001b[0mgirilenkelimeler\u001b[0m \u001b[0;34m=\u001b[0m \u001b[0minput\u001b[0m\u001b[0;34m(\u001b[0m\u001b[0;34m\"Bir kelime giriniz: \"\u001b[0m\u001b[0;34m)\u001b[0m\u001b[0;34m\u001b[0m\u001b[0;34m\u001b[0m\u001b[0m\n\u001b[1;32m      4\u001b[0m \u001b[0;34m\u001b[0m\u001b[0m\n\u001b[1;32m      5\u001b[0m \u001b[0;32mif\u001b[0m \u001b[0mgirilenkelimeler\u001b[0m \u001b[0;32min\u001b[0m \u001b[0mkelimeler\u001b[0m\u001b[0;34m:\u001b[0m\u001b[0;34m\u001b[0m\u001b[0;34m\u001b[0m\u001b[0m\n",
            "\u001b[0;31mNameError\u001b[0m: name 'kelimeler' is not defined"
          ]
        }
      ]
    },
    {
      "cell_type": "markdown",
      "source": [
        "**Soru 4:** 5 öğenin yer aldığı bir sözlük oluşturun. Bu sözlükte 5 kelime ve bu 5 kelimenin anlamları yer almalıdır. Klavyeden girilen anahtar (key) eğer sözlükte varsa kelimenin anlamı ekrana yazdırılmalıdır. Eğer anahtar sözlükte yoksa sözlükte aranan kelimenin olmadığı bilgisi ekrana yazdırılmalıdır."
      ],
      "metadata": {
        "id": "p49cZFjJcXoS"
      }
    },
    {
      "cell_type": "code",
      "execution_count": 25,
      "metadata": {
        "id": "3whYCDz3a8QZ",
        "outputId": "8e45cbe1-25ab-4b13-8fde-0b172ad1fc74",
        "colab": {
          "base_uri": "https://localhost:8080/",
          "height": 106
        }
      },
      "outputs": [
        {
          "output_type": "error",
          "ename": "IndentationError",
          "evalue": "expected an indented block after 'if' statement on line 4 (<ipython-input-25-66af65b5a0db>, line 5)",
          "traceback": [
            "\u001b[0;36m  File \u001b[0;32m\"<ipython-input-25-66af65b5a0db>\"\u001b[0;36m, line \u001b[0;32m5\u001b[0m\n\u001b[0;31m    print(kelimeler[anahtar])\u001b[0m\n\u001b[0m    ^\u001b[0m\n\u001b[0;31mIndentationError\u001b[0m\u001b[0;31m:\u001b[0m expected an indented block after 'if' statement on line 4\n"
          ]
        }
      ],
      "source": [
        "kelimeler = {\"phone\" : \"telefon\" , \"bag\" : \"çanta\" , \"computer\" : \"bilgisayar\" , \"pencil\" : \"kalem\" , \"print\" :\"çıktı\"}\n",
        "\n",
        "anahtar = input(\"Bir kelime giriniz: \")\n",
        "if anahtar in kelimeler:\n",
        "print(kelimeler[anahtar])\n",
        "\n",
        "else\n",
        "print (\"Kelime sözlükte yer almamaktadır. \")\n",
        "\n",
        "\n",
        "\n",
        "\n",
        "\n"
      ]
    }
  ]
}