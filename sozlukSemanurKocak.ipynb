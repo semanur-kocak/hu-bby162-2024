{
  "nbformat": 4,
  "nbformat_minor": 0,
  "metadata": {
    "colab": {
      "provenance": [],
      "authorship_tag": "ABX9TyOguAeZXY4Bra/5ffybLxo5",
      "include_colab_link": true
    },
    "kernelspec": {
      "name": "python3",
      "display_name": "Python 3"
    },
    "language_info": {
      "name": "python"
    }
  },
  "cells": [
    {
      "cell_type": "markdown",
      "metadata": {
        "id": "view-in-github",
        "colab_type": "text"
      },
      "source": [
        "<a href=\"https://colab.research.google.com/github/semanur-kocak/hu-bby162-2024/blob/main/sozlukSemanurKocak.ipynb\" target=\"_parent\"><img src=\"https://colab.research.google.com/assets/colab-badge.svg\" alt=\"Open In Colab\"/></a>"
      ]
    },
    {
      "cell_type": "code",
      "execution_count": 23,
      "metadata": {
        "colab": {
          "base_uri": "https://localhost:8080/"
        },
        "id": "7IDNN_6V8BP3",
        "outputId": "9483810c-f235-4d57-eeed-f884e72ac58b"
      },
      "outputs": [
        {
          "output_type": "stream",
          "name": "stdout",
          "text": [
            "{'cat': 'kedi', 'information': 'bilgi', 'software': 'yazılım', 'process': 'işleme', 'language': 'dil', 'station': 'istasyon', 'law': 'hukuk', 'project': 'proje', 'homework': 'ödev', 'school': 'okul'}\n",
            "{'cat': 'kedi', 'information': 'bilgi', 'software': 'yazılım', 'process': 'işleme', 'language': 'dil', 'station': 'istasyon', 'law': 'hukuk', 'project': 'proje', 'homework': 'ödev', 'school': 'okul', 'paper': 'kağıt'}\n",
            "{'cat': 'kedi', 'information': 'bilgi', 'software': 'yazılım', 'process': 'işleme', 'language': 'dil', 'station': 'istasyon', 'law': 'hukuk', 'project': 'proje', 'homework': 'ödev', 'school': 'okul'}\n",
            "{'cat': 'kedi', 'information': 'bilgi', 'software': 'yazılım', 'process': 'işlem', 'language': 'dil', 'station': 'istasyon', 'law': 'hukuk', 'project': 'proje', 'homework': 'ödev', 'school': 'okul'}\n",
            "kedi\n"
          ]
        }
      ],
      "source": [
        "kelimeler = {\"cat\" : \"kedi\" , \"information\" : \"bilgi\" , \"software\" : \"yazılım\" , \"process\" : \"işleme\" , \"language\" : \"dil\" , \"station\" :\"istasyon\" , \"law\" : \"hukuk\" , \"project\" : \"proje\" , \"homework\" : \"ödev\" , \"school\" : \"okul\"}\n",
        "print(kelimeler)  #sözlüğün oluşturulması\n",
        "\n",
        "kelimeler[\"paper\"] = \"kağıt\"\n",
        "print(kelimeler)  #sözlüğe yeni anahtar eklenmesi\n",
        "\n",
        "del kelimeler[\"paper\"]\n",
        "print(kelimeler)  #sözlükten anahtar silinmesi\n",
        "\n",
        "kelimeler[\"process\"] = \"işlem\"\n",
        "print(kelimeler)  #sözlükteki bir değerin güncellenmesi (işleme<<işlem)\n",
        "\n",
        "print(kelimeler[\"cat\"]) #sözlükte arama yapılması ve karşılığının ekrana yazılması\n",
        "\n",
        "\n",
        "\n"
      ]
    }
  ]
}